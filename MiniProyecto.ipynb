{
 "cells": [
  {
   "cell_type": "markdown",
   "metadata": {},
   "source": [
    "Gustavo de Leon 17085 "
   ]
  },
  {
   "cell_type": "markdown",
   "metadata": {},
   "source": [
    "Andres Urizar 17XXX"
   ]
  },
  {
   "cell_type": "markdown",
   "metadata": {},
   "source": [
    "### Mini Proyecto 1"
   ]
  },
  {
   "cell_type": "code",
   "execution_count": 5,
   "metadata": {},
   "outputs": [],
   "source": [
    "import numpy as np\n",
    "import matplotlib.pyplot as plt \n",
    "import random"
   ]
  },
  {
   "cell_type": "markdown",
   "metadata": {},
   "source": [
    "###### Ejercicio 1"
   ]
  },
  {
   "cell_type": "markdown",
   "metadata": {},
   "source": [
    "El triángulo de Shierpinski es uno de los más famosos fractales. Un fractal se puede construir a través de saltos aleatorios entre funciones determinísticas(juegos de caos). Considere las siguientes tres funciones:"
   ]
  },
  {
   "cell_type": "code",
   "execution_count": null,
   "metadata": {},
   "outputs": [],
   "source": []
  },
  {
   "cell_type": "markdown",
   "metadata": {},
   "source": [
    "###### Ejercicio 2"
   ]
  },
  {
   "cell_type": "markdown",
   "metadata": {},
   "source": [
    "En general los juegos del caos puedendefinirse como un Framework(F, X, n), donde Fes un conjunto dekfunciones determinísticas, y X es una variable aleatoria discreta con distribución probabilística: P = {pi | P(X = i) = pi}, y nes la cantidad de puntos a dibujar. Noten que |P| = k."
   ]
  },
  {
   "cell_type": "code",
   "execution_count": 48,
   "metadata": {},
   "outputs": [
    {
     "data": {
      "image/png": "[encoded data removed]",
      "text/plain": [
       "<Figure size 432x288 with 1 Axes>"
      ]
     },
     "metadata": {
      "needs_background": "light"
     },
     "output_type": "display_data"
    }
   ],
   "source": [
    "x = 0\n",
    "y = 0 \n",
    "  \n",
    "for i in range(1, 100000): \n",
    "  \n",
    "    z = randint(1, 100)\n",
    "    \n",
    "    # probabilidad de 7     \n",
    "    if z>= 4 and z<= 10: \n",
    "        x = x*0.2 + y*-0.26 + 0.0\n",
    "        y = x*0.23 + y*0.22 + 1.6\n",
    "      \n",
    "    # probabilidad de 7     \n",
    "    if z>= 94 and z<= 100: \n",
    "        x = -0.15*x + 0.28*y + 0.0\n",
    "        y = x*0.26+ y*0.24+ 0.44\n",
    "    \n",
    "    # probabilidad de 85    \n",
    "    if z>= 14 and z<= 98: \n",
    "        x = x*0.85 + y*0.04 + 0.0\n",
    "        y = x*-0.04 + y*0.85 + 1.6\n",
    "\n",
    "    # probabilidad de 1\n",
    "    if z == 69: \n",
    "        x = x*0.0 + y*0.0\n",
    "        y = x*0.0 + y*0.16\n",
    "    \n",
    "    plt.plot(x,y,\"o\",color=\"green\",markersize=2)\n",
    "   \n",
    "  \n",
    "plt.show() "
   ]
  },
  {
   "cell_type": "markdown",
   "metadata": {},
   "source": [
    "###### Ejercicio 3"
   ]
  },
  {
   "cell_type": "code",
   "execution_count": null,
   "metadata": {},
   "outputs": [],
   "source": []
  },
  {
   "cell_type": "markdown",
   "metadata": {},
   "source": [
    "##### Ejercicio 4"
   ]
  },
  {
   "cell_type": "markdown",
   "metadata": {},
   "source": [
    "Transforme la integral a una con límites de 0 a 1, muestre su procedimiento"
   ]
  },
  {
   "cell_type": "markdown",
   "metadata": {},
   "source": [
    "Debido a que la Integral es par se puede \"doblar\" y asi tener 2 veces la integral con limite inferior 0"
   ]
  },
  {
   "cell_type": "raw",
   "metadata": {},
   "source": [
    "Ahora, teniendo un limite con infinito se aplica la formula vista en clase:"
   ]
  },
  {
   "cell_type": "markdown",
   "metadata": {},
   "source": [
    "h(y) = g( 1/y - 1 ) / y^2"
   ]
  },
  {
   "cell_type": "raw",
   "metadata": {},
   "source": [
    "Y la sustituimos en nuestra funcion g(x) la cual es"
   ]
  },
  {
   "cell_type": "raw",
   "metadata": {},
   "source": [
    "g(x) = 2 * e ^ -(x)^2"
   ]
  },
  {
   "cell_type": "markdown",
   "metadata": {},
   "source": [
    "Dandonos como resultado:"
   ]
  },
  {
   "cell_type": "markdown",
   "metadata": {},
   "source": [
    "2 * e ^ -((1/x) - 1) ^ 2  / x^2"
   ]
  },
  {
   "cell_type": "code",
   "execution_count": 6,
   "metadata": {},
   "outputs": [],
   "source": [
    "# Generacion de random\n",
    "def lista(n):\n",
    "    randomlista = []\n",
    "    for i in range(0,n):\n",
    "        x = random.uniform(0, 1)\n",
    "        randomlista.append(x)\n",
    "    return randomlista"
   ]
  },
  {
   "cell_type": "markdown",
   "metadata": {},
   "source": [
    "Funcion"
   ]
  },
  {
   "cell_type": "code",
   "execution_count": 7,
   "metadata": {},
   "outputs": [],
   "source": [
    "g = lambda x: (2*np.exp(-((1/x)-1)**2))/(x**2)"
   ]
  },
  {
   "cell_type": "markdown",
   "metadata": {},
   "source": [
    "Montecarlo con 100 iteraciones"
   ]
  },
  {
   "cell_type": "code",
   "execution_count": 8,
   "metadata": {},
   "outputs": [
    {
     "data": {
      "text/plain": [
       "1.5518796195311788"
      ]
     },
     "execution_count": 8,
     "metadata": {},
     "output_type": "execute_result"
    }
   ],
   "source": [
    "randomlist = lista(100)\n",
    "a_evaluar = [g(i) for i in randomlist]\n",
    "sum(a_evaluar)/ len(a_evaluar)"
   ]
  },
  {
   "cell_type": "markdown",
   "metadata": {},
   "source": [
    "Montecarlo con 10000 iteraciones"
   ]
  },
  {
   "cell_type": "code",
   "execution_count": 9,
   "metadata": {},
   "outputs": [
    {
     "data": {
      "text/plain": [
       "1.7828271056175669"
      ]
     },
     "execution_count": 9,
     "metadata": {},
     "output_type": "execute_result"
    }
   ],
   "source": [
    "randomlist = lista(10000)\n",
    "a_evaluar = [g(i) for i in randomlist]\n",
    "sum(a_evaluar)/ len(a_evaluar)"
   ]
  },
  {
   "cell_type": "markdown",
   "metadata": {},
   "source": [
    "Montecarlo con 100000 iteraciones"
   ]
  },
  {
   "cell_type": "code",
   "execution_count": 10,
   "metadata": {},
   "outputs": [
    {
     "data": {
      "text/plain": [
       "1.7714628124393137"
      ]
     },
     "execution_count": 10,
     "metadata": {},
     "output_type": "execute_result"
    }
   ],
   "source": [
    "randomlist = lista(100000)\n",
    "a_evaluar = [g(i) for i in randomlist]\n",
    "sum(a_evaluar)/ len(a_evaluar)"
   ]
  },
  {
   "cell_type": "markdown",
   "metadata": {},
   "source": [
    "## EJEMPLO DE SAMUEL PARA VERIFICACION"
   ]
  },
  {
   "cell_type": "code",
   "execution_count": 11,
   "metadata": {},
   "outputs": [],
   "source": [
    "def pseudo(a,m):\n",
    "    def inner_pseudo(xo, n):\n",
    "        items =list(range(n))\n",
    "        items[0] = xo\n",
    "        for i in range(1,n):\n",
    "            items[i] = (a * items[i-1])%m\n",
    "        return[i/float(m) for i in items]\n",
    "    return inner_pseudo"
   ]
  },
  {
   "cell_type": "code",
   "execution_count": 12,
   "metadata": {},
   "outputs": [],
   "source": [
    "mi_pseudo = pseudo(m=2**31 - 1, a=7**5)"
   ]
  },
  {
   "cell_type": "code",
   "execution_count": 14,
   "metadata": {},
   "outputs": [],
   "source": [
    "g = lambda x: (2*np.exp(-((1/x)-1)**2))/(x**2)"
   ]
  },
  {
   "cell_type": "code",
   "execution_count": 16,
   "metadata": {},
   "outputs": [],
   "source": [
    "mis_randoms = mi_pseudo(xo=5,n=100000)"
   ]
  },
  {
   "cell_type": "code",
   "execution_count": 17,
   "metadata": {},
   "outputs": [],
   "source": [
    "a_evaluar = [g(i) for i in mis_randoms]"
   ]
  },
  {
   "cell_type": "code",
   "execution_count": 18,
   "metadata": {},
   "outputs": [
    {
     "data": {
      "text/plain": [
       "1.7765854460194064"
      ]
     },
     "execution_count": 18,
     "metadata": {},
     "output_type": "execute_result"
    }
   ],
   "source": [
    "sum(a_evaluar)/ len(a_evaluar)"
   ]
  }
 ],
 "metadata": {
  "kernelspec": {
   "display_name": "Python 3",
   "language": "python",
   "name": "python3"
  },
  "language_info": {
   "codemirror_mode": {
    "name": "ipython",
    "version": 3
   },
   "file_extension": ".py",
   "mimetype": "text/x-python",
   "name": "python",
   "nbconvert_exporter": "python",
   "pygments_lexer": "ipython3",
   "version": "3.6.9"
  }
 },
 "nbformat": 4,
 "nbformat_minor": 4
}
